{
 "cells": [
  {
   "cell_type": "code",
   "execution_count": 4,
   "metadata": {},
   "outputs": [
    {
     "name": "stdout",
     "output_type": "stream",
     "text": [
      "Image shape: torch.Size([1, 196, 512])\n",
      "torch.Size([1, 1224, 512])\n",
      "Image:tensor([[[[0.4924, 0.0281, 0.6164,  ..., 0.8618, 0.6266, 0.1216],\n",
      "          [0.1232, 0.2853, 0.3252,  ..., 0.6083, 0.8591, 0.2687],\n",
      "          [0.2171, 0.5652, 0.9441,  ..., 0.5477, 0.2376, 0.2095],\n",
      "          ...,\n",
      "          [0.4456, 0.8558, 0.8772,  ..., 0.8245, 0.3661, 0.9615],\n",
      "          [0.9290, 0.2837, 0.8245,  ..., 0.5576, 0.7859, 0.0949],\n",
      "          [0.2372, 0.5417, 0.5213,  ..., 0.0902, 0.8180, 0.0462]],\n",
      "\n",
      "         [[0.9899, 0.6287, 0.4743,  ..., 0.1474, 0.3460, 0.1527],\n",
      "          [0.2519, 0.6791, 0.0676,  ..., 0.2312, 0.5934, 0.1986],\n",
      "          [0.8409, 0.8834, 0.1183,  ..., 0.3674, 0.7812, 0.5270],\n",
      "          ...,\n",
      "          [0.4106, 0.6686, 0.8391,  ..., 0.1932, 0.2391, 0.3995],\n",
      "          [0.5824, 0.7672, 0.4333,  ..., 0.5844, 0.1902, 0.4470],\n",
      "          [0.8668, 0.5266, 0.6382,  ..., 0.7829, 0.2651, 0.6186]],\n",
      "\n",
      "         [[0.6815, 0.6437, 0.8876,  ..., 0.9481, 0.0388, 0.3285],\n",
      "          [0.6342, 0.9647, 0.8647,  ..., 0.6269, 0.1348, 0.8260],\n",
      "          [0.1430, 0.5175, 0.3805,  ..., 0.9987, 0.7492, 0.7484],\n",
      "          ...,\n",
      "          [0.0068, 0.7355, 0.1495,  ..., 0.5056, 0.9314, 0.8933],\n",
      "          [0.4027, 0.7459, 0.1047,  ..., 0.3205, 0.7280, 0.6903],\n",
      "          [0.5058, 0.2042, 0.5080,  ..., 0.4184, 0.9314, 0.0823]]]])\n",
      "Text:tensor([[16515, 17534,  1882,  ..., 17565, 19161, 16170]])\n",
      "Output:tensor([[[0.0012, 0.0017, 0.0019,  ..., 0.0019, 0.0005, 0.0021],\n",
      "         [0.0020, 0.0024, 0.0012,  ..., 0.0022, 0.0021, 0.0010],\n",
      "         [0.0012, 0.0018, 0.0008,  ..., 0.0029, 0.0013, 0.0021],\n",
      "         ...,\n",
      "         [0.0029, 0.0020, 0.0042,  ..., 0.0014, 0.0005, 0.0016],\n",
      "         [0.0011, 0.0057, 0.0032,  ..., 0.0022, 0.0006, 0.0021],\n",
      "         [0.0007, 0.0009, 0.0019,  ..., 0.0028, 0.0011, 0.0008]]],\n",
      "       grad_fn=<SoftmaxBackward0>)\n"
     ]
    }
   ],
   "source": [
    "\n",
    "import torch\n",
    "from screenai.main import ScreenAI\n",
    "\n",
    "# Create a tensor for the image\n",
    "image = torch.rand(1, 3, 224, 224)\n",
    "\n",
    "# Create a tensor for the text\n",
    "# text = torch.randn(1, 1, 512)\n",
    "text = torch.randint(0, 20000, (1, 1028), dtype=torch.long)  # Ensure dtype is long\n",
    "\n",
    "\n",
    "# Create an instance of the ScreenAI model with specified parameters\n",
    "model = ScreenAI(\n",
    "    num_tokens = 20000,\n",
    "    max_seq_len = 1028,\n",
    "    patch_size=16,\n",
    "    image_size=224,\n",
    "    dim=512,\n",
    "    depth=6,\n",
    "    heads=8,\n",
    "    vit_depth=4,\n",
    "    multi_modal_encoder_depth=4,\n",
    "    llm_decoder_depth=4,\n",
    "    mm_encoder_ff_mult=4,\n",
    ")\n",
    "\n",
    "# Perform forward pass of the model with the given text and image tensors\n",
    "out = model(text, image)\n",
    "\n",
    "# Print the shape of the output tensor\n",
    "print(f'Image:{image}')\n",
    "print(f'Text:{text}')\n",
    "print(f\"Output:{out}\")"
   ]
  },
  {
   "cell_type": "code",
   "execution_count": 10,
   "metadata": {},
   "outputs": [
    {
     "name": "stdout",
     "output_type": "stream",
     "text": [
      "Output Shape: torch.Size([1, 1224, 512])\n"
     ]
    }
   ],
   "source": [
    "print(f\"Output Shape: {out.shape}\")\n"
   ]
  },
  {
   "cell_type": "code",
   "execution_count": null,
   "metadata": {},
   "outputs": [],
   "source": []
  }
 ],
 "metadata": {
  "kernelspec": {
   "display_name": "multi-agent-llm",
   "language": "python",
   "name": "python3"
  },
  "language_info": {
   "codemirror_mode": {
    "name": "ipython",
    "version": 3
   },
   "file_extension": ".py",
   "mimetype": "text/x-python",
   "name": "python",
   "nbconvert_exporter": "python",
   "pygments_lexer": "ipython3",
   "version": "3.11.11"
  }
 },
 "nbformat": 4,
 "nbformat_minor": 4
}
